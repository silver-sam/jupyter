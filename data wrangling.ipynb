{
 "cells": [
  {
   "cell_type": "code",
   "execution_count": 1,
   "id": "41d63d54-c0ef-4c3a-9c6e-b9978a808117",
   "metadata": {},
   "outputs": [
    {
     "name": "stdout",
     "output_type": "stream",
     "text": [
      "         Name  Age  Gender Marks\n",
      "0       Peter   25    Male    85\n",
      "1       Joyce   30  Female    92\n",
      "2      George   22    Male   NaN\n",
      "3      Phylis   28  Female    88\n",
      "4       Moses   24    Male   NaN\n",
      "5  Priscillah   34  Female    79\n",
      "6       Eliud   19    Male    80\n"
     ]
    }
   ],
   "source": [
    "import pandas as pd\n",
    "data = {\n",
    "'Name': ['Peter', 'Joyce', 'George', 'Phylis', 'Moses','Priscillah', 'Eliud'],\n",
    "'Age': [25, 30, 22, 28, 24, 34, 19],\n",
    "'Gender': ['Male', 'Female', 'Male', 'Female','Male', 'Female','Male'],\n",
    "'Marks': [85, 92,'NaN', 88, 'NaN',79,80]\n",
    "}\n",
    "wainaina = pd.DataFrame(data)\n",
    "#wainaina.head(20)\n",
    "print(wainaina)"
   ]
  },
  {
   "cell_type": "code",
   "execution_count": 25,
   "id": "3432a62e-d6e6-4bbc-8ef7-d94cfc8cdf39",
   "metadata": {},
   "outputs": [
    {
     "name": "stdout",
     "output_type": "stream",
     "text": [
      "      Brand  Year    Model  Sales\n",
      "0    Maruti  2009    Swift    120\n",
      "1    Toyota  2010  Corolla    150\n",
      "2  Mahindra  2011  Scorpio     95\n",
      "3      Ford  2010   Fiesta     50\n",
      "4    Maruti  2010     Alto    105\n",
      "5    Toyota  2009    Camry    130\n",
      "6    Toyota  2010   Innova     90\n",
      "7      Ford  2012     Figo     75\n",
      "8  Mahindra  2010   Bolero     85\n",
      "9    Maruti  2009   WagonR    115\n"
     ]
    },
    {
     "ename": "KeyError",
     "evalue": "'Marks'",
     "output_type": "error",
     "traceback": [
      "\u001b[31m---------------------------------------------------------------------------\u001b[39m",
      "\u001b[31mKeyError\u001b[39m                                  Traceback (most recent call last)",
      "\u001b[36mFile \u001b[39m\u001b[32m~/Desktop/jupyter/venv/lib/python3.13/site-packages/pandas/core/indexes/base.py:3812\u001b[39m, in \u001b[36mIndex.get_loc\u001b[39m\u001b[34m(self, key)\u001b[39m\n\u001b[32m   3811\u001b[39m \u001b[38;5;28;01mtry\u001b[39;00m:\n\u001b[32m-> \u001b[39m\u001b[32m3812\u001b[39m     \u001b[38;5;28;01mreturn\u001b[39;00m \u001b[38;5;28;43mself\u001b[39;49m\u001b[43m.\u001b[49m\u001b[43m_engine\u001b[49m\u001b[43m.\u001b[49m\u001b[43mget_loc\u001b[49m\u001b[43m(\u001b[49m\u001b[43mcasted_key\u001b[49m\u001b[43m)\u001b[49m\n\u001b[32m   3813\u001b[39m \u001b[38;5;28;01mexcept\u001b[39;00m \u001b[38;5;167;01mKeyError\u001b[39;00m \u001b[38;5;28;01mas\u001b[39;00m err:\n",
      "\u001b[36mFile \u001b[39m\u001b[32mpandas/_libs/index.pyx:167\u001b[39m, in \u001b[36mpandas._libs.index.IndexEngine.get_loc\u001b[39m\u001b[34m()\u001b[39m\n",
      "\u001b[36mFile \u001b[39m\u001b[32mpandas/_libs/index.pyx:196\u001b[39m, in \u001b[36mpandas._libs.index.IndexEngine.get_loc\u001b[39m\u001b[34m()\u001b[39m\n",
      "\u001b[36mFile \u001b[39m\u001b[32mpandas/_libs/hashtable_class_helper.pxi:7088\u001b[39m, in \u001b[36mpandas._libs.hashtable.PyObjectHashTable.get_item\u001b[39m\u001b[34m()\u001b[39m\n",
      "\u001b[36mFile \u001b[39m\u001b[32mpandas/_libs/hashtable_class_helper.pxi:7096\u001b[39m, in \u001b[36mpandas._libs.hashtable.PyObjectHashTable.get_item\u001b[39m\u001b[34m()\u001b[39m\n",
      "\u001b[31mKeyError\u001b[39m: 'Marks'",
      "\nThe above exception was the direct cause of the following exception:\n",
      "\u001b[31mKeyError\u001b[39m                                  Traceback (most recent call last)",
      "\u001b[36mCell\u001b[39m\u001b[36m \u001b[39m\u001b[32mIn[25]\u001b[39m\u001b[32m, line 6\u001b[39m\n\u001b[32m      4\u001b[39m avg=\u001b[32m0\u001b[39m\n\u001b[32m      5\u001b[39m \u001b[38;5;28msum\u001b[39m=\u001b[32m0\u001b[39m\n\u001b[32m----> \u001b[39m\u001b[32m6\u001b[39m \u001b[38;5;28;01mfor\u001b[39;00m me \u001b[38;5;129;01min\u001b[39;00m \u001b[43mwainaina\u001b[49m\u001b[43m[\u001b[49m\u001b[33;43m'\u001b[39;49m\u001b[33;43mMarks\u001b[39;49m\u001b[33;43m'\u001b[39;49m\u001b[43m]\u001b[49m:\n\u001b[32m      7\u001b[39m     \u001b[38;5;28;01mif\u001b[39;00m \u001b[38;5;28mstr\u001b[39m(me).isnumeric():\n\u001b[32m      8\u001b[39m         c=c+\u001b[32m1\u001b[39m;\n",
      "\u001b[36mFile \u001b[39m\u001b[32m~/Desktop/jupyter/venv/lib/python3.13/site-packages/pandas/core/frame.py:4113\u001b[39m, in \u001b[36mDataFrame.__getitem__\u001b[39m\u001b[34m(self, key)\u001b[39m\n\u001b[32m   4111\u001b[39m \u001b[38;5;28;01mif\u001b[39;00m \u001b[38;5;28mself\u001b[39m.columns.nlevels > \u001b[32m1\u001b[39m:\n\u001b[32m   4112\u001b[39m     \u001b[38;5;28;01mreturn\u001b[39;00m \u001b[38;5;28mself\u001b[39m._getitem_multilevel(key)\n\u001b[32m-> \u001b[39m\u001b[32m4113\u001b[39m indexer = \u001b[38;5;28;43mself\u001b[39;49m\u001b[43m.\u001b[49m\u001b[43mcolumns\u001b[49m\u001b[43m.\u001b[49m\u001b[43mget_loc\u001b[49m\u001b[43m(\u001b[49m\u001b[43mkey\u001b[49m\u001b[43m)\u001b[49m\n\u001b[32m   4114\u001b[39m \u001b[38;5;28;01mif\u001b[39;00m is_integer(indexer):\n\u001b[32m   4115\u001b[39m     indexer = [indexer]\n",
      "\u001b[36mFile \u001b[39m\u001b[32m~/Desktop/jupyter/venv/lib/python3.13/site-packages/pandas/core/indexes/base.py:3819\u001b[39m, in \u001b[36mIndex.get_loc\u001b[39m\u001b[34m(self, key)\u001b[39m\n\u001b[32m   3814\u001b[39m     \u001b[38;5;28;01mif\u001b[39;00m \u001b[38;5;28misinstance\u001b[39m(casted_key, \u001b[38;5;28mslice\u001b[39m) \u001b[38;5;129;01mor\u001b[39;00m (\n\u001b[32m   3815\u001b[39m         \u001b[38;5;28misinstance\u001b[39m(casted_key, abc.Iterable)\n\u001b[32m   3816\u001b[39m         \u001b[38;5;129;01mand\u001b[39;00m \u001b[38;5;28many\u001b[39m(\u001b[38;5;28misinstance\u001b[39m(x, \u001b[38;5;28mslice\u001b[39m) \u001b[38;5;28;01mfor\u001b[39;00m x \u001b[38;5;129;01min\u001b[39;00m casted_key)\n\u001b[32m   3817\u001b[39m     ):\n\u001b[32m   3818\u001b[39m         \u001b[38;5;28;01mraise\u001b[39;00m InvalidIndexError(key)\n\u001b[32m-> \u001b[39m\u001b[32m3819\u001b[39m     \u001b[38;5;28;01mraise\u001b[39;00m \u001b[38;5;167;01mKeyError\u001b[39;00m(key) \u001b[38;5;28;01mfrom\u001b[39;00m\u001b[38;5;250m \u001b[39m\u001b[34;01merr\u001b[39;00m\n\u001b[32m   3820\u001b[39m \u001b[38;5;28;01mexcept\u001b[39;00m \u001b[38;5;167;01mTypeError\u001b[39;00m:\n\u001b[32m   3821\u001b[39m     \u001b[38;5;66;03m# If we have a listlike key, _check_indexing_error will raise\u001b[39;00m\n\u001b[32m   3822\u001b[39m     \u001b[38;5;66;03m#  InvalidIndexError. Otherwise we fall through and re-raise\u001b[39;00m\n\u001b[32m   3823\u001b[39m     \u001b[38;5;66;03m#  the TypeError.\u001b[39;00m\n\u001b[32m   3824\u001b[39m     \u001b[38;5;28mself\u001b[39m._check_indexing_error(key)\n",
      "\u001b[31mKeyError\u001b[39m: 'Marks'"
     ]
    }
   ],
   "source": [
    "import numpy as np\n",
    "print(wainaina)\n",
    "c=0\n",
    "avg=0\n",
    "sum=0\n",
    "for me in wainaina['Marks']:\n",
    "    if str(me).isnumeric():\n",
    "        c=c+1;\n",
    "        #c+=1\n",
    "        #avg+=me\n",
    "sum=sum+me\n",
    "avg=sum/c\n",
    "print(\"\\n Cout=\\n\",c)\n",
    "print(\"\\n Sum=\\n\",sum)\n",
    "print(\"\\n Average=\\n\",avg)\n",
    "wainaina=wainaina.replace(to_replace=\"NaN\",value=avg)\n",
    "print(\"\\n NEW DATA \\n\")\n",
    "print(wainaina)"
   ]
  },
  {
   "cell_type": "code",
   "execution_count": 8,
   "id": "f47c65bd-db2b-4e2e-af2e-a3d8029eeb8b",
   "metadata": {},
   "outputs": [
    {
     "name": "stdout",
     "output_type": "stream",
     "text": [
      "         Name  Age  Gender  Marks\n",
      "0       Peter   25     0.0   85.0\n",
      "1       Joyce   30     1.0   92.0\n",
      "2      George   22     0.0   85.0\n",
      "3      Phylis   28     1.0   88.0\n",
      "4       Moses   24     0.0   85.0\n",
      "5  Priscillah   34     1.0   79.0\n",
      "6       Eliud   19     0.0   80.0\n"
     ]
    },
    {
     "name": "stderr",
     "output_type": "stream",
     "text": [
      "/tmp/ipykernel_42614/1890683985.py:2: FutureWarning: Downcasting behavior in `replace` is deprecated and will be removed in a future version. To retain the old behavior, explicitly call `result.infer_objects(copy=False)`. To opt-in to the future behavior, set `pd.set_option('future.no_silent_downcasting', True)`\n",
      "  wainaina['Gender'] = wainaina['Gender'].replace({'Female': 1.0, 'Male': 0.0})\n"
     ]
    }
   ],
   "source": [
    "#Replace 'Gender' values: 'Female' -> 1.0, 'Male' -> 0.0\n",
    "wainaina['Gender'] = wainaina['Gender'].replace({'Female': 1.0, 'Male': 0.0})\n",
    "\n",
    "#Display the updated DataFrame\n",
    "print(wainaina)"
   ]
  },
  {
   "cell_type": "code",
   "execution_count": 10,
   "id": "48bfe689-fc9a-4daf-8ebf-a77d4dd4ebf5",
   "metadata": {},
   "outputs": [
    {
     "name": "stdout",
     "output_type": "stream",
     "text": [
      "         Name  Age  Gender  Marks\n",
      "0       Peter   25     NaN   85.0\n",
      "1       Joyce   30     NaN   92.0\n",
      "2      George   22     NaN   85.0\n",
      "3      Phylis   28     NaN   88.0\n",
      "4       Moses   24     NaN   85.0\n",
      "5  Priscillah   34     NaN   79.0\n",
      "6       Eliud   19     NaN   80.0\n"
     ]
    }
   ],
   "source": [
    "#Replace 'Gender' values: 'Female' -> 1.0, 'Male' -> 0.0\n",
    "wainaina['Gender'] = wainaina['Gender'].map({'Female': 1.0, 'Male': 0.0}).astype(float)\n",
    "\n",
    "#Display the updated DataFrame\n",
    "print(wainaina)"
   ]
  },
  {
   "cell_type": "code",
   "execution_count": 11,
   "id": "cadab928-b2fd-40aa-917b-1b4cdb0d0a3b",
   "metadata": {},
   "outputs": [
    {
     "name": "stdout",
     "output_type": "stream",
     "text": [
      "     Name  Age  Marks\n",
      "0   Peter   25   85.0\n",
      "1   Joyce   30   92.0\n",
      "2  George   22   85.0\n",
      "3  Phylis   28   88.0\n",
      "4   Moses   24   85.0\n"
     ]
    }
   ],
   "source": [
    "wainaina=wainaina[wainaina['Marks']>=85]\n",
    "wainaina=wainaina.drop(['Gender'],axis=1)\n",
    "print(wainaina)"
   ]
  },
  {
   "cell_type": "code",
   "execution_count": 12,
   "id": "65b5834c-28c2-4376-87a9-08da55973054",
   "metadata": {},
   "outputs": [
    {
     "name": "stdout",
     "output_type": "stream",
     "text": [
      "     Name  Age  Marks\n",
      "0   Peter   25   85.0\n",
      "1   Joyce   30   92.0\n",
      "2  George   22   85.0\n",
      "3  Phylis   28   88.0\n",
      "4   Moses   24   85.0\n"
     ]
    },
    {
     "ename": "KeyError",
     "evalue": "'Gender'",
     "output_type": "error",
     "traceback": [
      "\u001b[31m---------------------------------------------------------------------------\u001b[39m",
      "\u001b[31mKeyError\u001b[39m                                  Traceback (most recent call last)",
      "\u001b[36mFile \u001b[39m\u001b[32m~/Desktop/jupyter/venv/lib/python3.13/site-packages/pandas/core/indexes/base.py:3812\u001b[39m, in \u001b[36mIndex.get_loc\u001b[39m\u001b[34m(self, key)\u001b[39m\n\u001b[32m   3811\u001b[39m \u001b[38;5;28;01mtry\u001b[39;00m:\n\u001b[32m-> \u001b[39m\u001b[32m3812\u001b[39m     \u001b[38;5;28;01mreturn\u001b[39;00m \u001b[38;5;28;43mself\u001b[39;49m\u001b[43m.\u001b[49m\u001b[43m_engine\u001b[49m\u001b[43m.\u001b[49m\u001b[43mget_loc\u001b[49m\u001b[43m(\u001b[49m\u001b[43mcasted_key\u001b[49m\u001b[43m)\u001b[49m\n\u001b[32m   3813\u001b[39m \u001b[38;5;28;01mexcept\u001b[39;00m \u001b[38;5;167;01mKeyError\u001b[39;00m \u001b[38;5;28;01mas\u001b[39;00m err:\n",
      "\u001b[36mFile \u001b[39m\u001b[32mpandas/_libs/index.pyx:167\u001b[39m, in \u001b[36mpandas._libs.index.IndexEngine.get_loc\u001b[39m\u001b[34m()\u001b[39m\n",
      "\u001b[36mFile \u001b[39m\u001b[32mpandas/_libs/index.pyx:196\u001b[39m, in \u001b[36mpandas._libs.index.IndexEngine.get_loc\u001b[39m\u001b[34m()\u001b[39m\n",
      "\u001b[36mFile \u001b[39m\u001b[32mpandas/_libs/hashtable_class_helper.pxi:7088\u001b[39m, in \u001b[36mpandas._libs.hashtable.PyObjectHashTable.get_item\u001b[39m\u001b[34m()\u001b[39m\n",
      "\u001b[36mFile \u001b[39m\u001b[32mpandas/_libs/hashtable_class_helper.pxi:7096\u001b[39m, in \u001b[36mpandas._libs.hashtable.PyObjectHashTable.get_item\u001b[39m\u001b[34m()\u001b[39m\n",
      "\u001b[31mKeyError\u001b[39m: 'Gender'",
      "\nThe above exception was the direct cause of the following exception:\n",
      "\u001b[31mKeyError\u001b[39m                                  Traceback (most recent call last)",
      "\u001b[36mCell\u001b[39m\u001b[36m \u001b[39m\u001b[32mIn[12]\u001b[39m\u001b[32m, line 3\u001b[39m\n\u001b[32m      1\u001b[39m \u001b[38;5;66;03m#Check the data type of the 'Gender' column before mapping\u001b[39;00m\n\u001b[32m      2\u001b[39m \u001b[38;5;28mprint\u001b[39m(wainaina)\n\u001b[32m----> \u001b[39m\u001b[32m3\u001b[39m \u001b[38;5;28mprint\u001b[39m(\u001b[33m'\u001b[39m\u001b[38;5;130;01m\\n\u001b[39;00m\u001b[33m Data Type=\u001b[39m\u001b[38;5;132;01m%s\u001b[39;00m\u001b[33m'\u001b[39m %\u001b[43mwainaina\u001b[49m\u001b[43m[\u001b[49m\u001b[33;43m'\u001b[39;49m\u001b[33;43mGender\u001b[39;49m\u001b[33;43m'\u001b[39;49m\u001b[43m]\u001b[49m.dtype)\n\u001b[32m      5\u001b[39m \u001b[38;5;66;03m#Map 'Male' to 0 and 'Female' to 1 and cast to float\u001b[39;00m\n\u001b[32m      6\u001b[39m wainaina[\u001b[33m'\u001b[39m\u001b[33mGender\u001b[39m\u001b[33m'\u001b[39m] = wainaina[\u001b[33m'\u001b[39m\u001b[33mGender\u001b[39m\u001b[33m'\u001b[39m].map({\u001b[33m'\u001b[39m\u001b[33mMale\u001b[39m\u001b[33m'\u001b[39m: \u001b[32m0\u001b[39m, \u001b[33m'\u001b[39m\u001b[33mFemale\u001b[39m\u001b[33m'\u001b[39m: \u001b[32m1\u001b[39m}).astype(\u001b[38;5;28mfloat\u001b[39m)\n",
      "\u001b[36mFile \u001b[39m\u001b[32m~/Desktop/jupyter/venv/lib/python3.13/site-packages/pandas/core/frame.py:4113\u001b[39m, in \u001b[36mDataFrame.__getitem__\u001b[39m\u001b[34m(self, key)\u001b[39m\n\u001b[32m   4111\u001b[39m \u001b[38;5;28;01mif\u001b[39;00m \u001b[38;5;28mself\u001b[39m.columns.nlevels > \u001b[32m1\u001b[39m:\n\u001b[32m   4112\u001b[39m     \u001b[38;5;28;01mreturn\u001b[39;00m \u001b[38;5;28mself\u001b[39m._getitem_multilevel(key)\n\u001b[32m-> \u001b[39m\u001b[32m4113\u001b[39m indexer = \u001b[38;5;28;43mself\u001b[39;49m\u001b[43m.\u001b[49m\u001b[43mcolumns\u001b[49m\u001b[43m.\u001b[49m\u001b[43mget_loc\u001b[49m\u001b[43m(\u001b[49m\u001b[43mkey\u001b[49m\u001b[43m)\u001b[49m\n\u001b[32m   4114\u001b[39m \u001b[38;5;28;01mif\u001b[39;00m is_integer(indexer):\n\u001b[32m   4115\u001b[39m     indexer = [indexer]\n",
      "\u001b[36mFile \u001b[39m\u001b[32m~/Desktop/jupyter/venv/lib/python3.13/site-packages/pandas/core/indexes/base.py:3819\u001b[39m, in \u001b[36mIndex.get_loc\u001b[39m\u001b[34m(self, key)\u001b[39m\n\u001b[32m   3814\u001b[39m     \u001b[38;5;28;01mif\u001b[39;00m \u001b[38;5;28misinstance\u001b[39m(casted_key, \u001b[38;5;28mslice\u001b[39m) \u001b[38;5;129;01mor\u001b[39;00m (\n\u001b[32m   3815\u001b[39m         \u001b[38;5;28misinstance\u001b[39m(casted_key, abc.Iterable)\n\u001b[32m   3816\u001b[39m         \u001b[38;5;129;01mand\u001b[39;00m \u001b[38;5;28many\u001b[39m(\u001b[38;5;28misinstance\u001b[39m(x, \u001b[38;5;28mslice\u001b[39m) \u001b[38;5;28;01mfor\u001b[39;00m x \u001b[38;5;129;01min\u001b[39;00m casted_key)\n\u001b[32m   3817\u001b[39m     ):\n\u001b[32m   3818\u001b[39m         \u001b[38;5;28;01mraise\u001b[39;00m InvalidIndexError(key)\n\u001b[32m-> \u001b[39m\u001b[32m3819\u001b[39m     \u001b[38;5;28;01mraise\u001b[39;00m \u001b[38;5;167;01mKeyError\u001b[39;00m(key) \u001b[38;5;28;01mfrom\u001b[39;00m\u001b[38;5;250m \u001b[39m\u001b[34;01merr\u001b[39;00m\n\u001b[32m   3820\u001b[39m \u001b[38;5;28;01mexcept\u001b[39;00m \u001b[38;5;167;01mTypeError\u001b[39;00m:\n\u001b[32m   3821\u001b[39m     \u001b[38;5;66;03m# If we have a listlike key, _check_indexing_error will raise\u001b[39;00m\n\u001b[32m   3822\u001b[39m     \u001b[38;5;66;03m#  InvalidIndexError. Otherwise we fall through and re-raise\u001b[39;00m\n\u001b[32m   3823\u001b[39m     \u001b[38;5;66;03m#  the TypeError.\u001b[39;00m\n\u001b[32m   3824\u001b[39m     \u001b[38;5;28mself\u001b[39m._check_indexing_error(key)\n",
      "\u001b[31mKeyError\u001b[39m: 'Gender'"
     ]
    }
   ],
   "source": [
    "#Check the data type of the 'Gender' column before mapping\n",
    "print(wainaina)\n",
    "print('\\n Data Type=%s' %wainaina['Gender'].dtype)\n",
    "\n",
    "#Map 'Male' to 0 and 'Female' to 1 and cast to float\n",
    "wainaina['Gender'] = wainaina['Gender'].map({'Male': 0, 'Female': 1}).astype(float)\n",
    "\n",
    "#Display the updated DataFrame\n",
    "print('\\n Data Type=%s' %wainaina['Gender'].dtype)"
   ]
  },
  {
   "cell_type": "code",
   "execution_count": 13,
   "id": "c6b5fe98-aef4-43f6-9176-a97180c6a8c1",
   "metadata": {},
   "outputs": [
    {
     "ename": "KeyError",
     "evalue": "\"['Gender'] not in index\"",
     "output_type": "error",
     "traceback": [
      "\u001b[31m---------------------------------------------------------------------------\u001b[39m",
      "\u001b[31mKeyError\u001b[39m                                  Traceback (most recent call last)",
      "\u001b[36mCell\u001b[39m\u001b[36m \u001b[39m\u001b[32mIn[13]\u001b[39m\u001b[32m, line 5\u001b[39m\n\u001b[32m      2\u001b[39m wainaina.sort_values(by=\u001b[33m'\u001b[39m\u001b[33mMarks\u001b[39m\u001b[33m'\u001b[39m, ascending=\u001b[38;5;28;01mFalse\u001b[39;00m, inplace=\u001b[38;5;28;01mTrue\u001b[39;00m)\n\u001b[32m      4\u001b[39m \u001b[38;5;66;03m#Select the top-scoring students (e.g., top 3)\u001b[39;00m\n\u001b[32m----> \u001b[39m\u001b[32m5\u001b[39m top_scorers = \u001b[43mwainaina\u001b[49m\u001b[43m[\u001b[49m\u001b[43m[\u001b[49m\u001b[33;43m'\u001b[39;49m\u001b[33;43mName\u001b[39;49m\u001b[33;43m'\u001b[39;49m\u001b[43m,\u001b[49m\u001b[43m \u001b[49m\u001b[33;43m'\u001b[39;49m\u001b[33;43mGender\u001b[39;49m\u001b[33;43m'\u001b[39;49m\u001b[43m,\u001b[49m\u001b[43m \u001b[49m\u001b[33;43m'\u001b[39;49m\u001b[33;43mMarks\u001b[39;49m\u001b[33;43m'\u001b[39;49m\u001b[43m]\u001b[49m\u001b[43m]\u001b[49m.head(\u001b[32m3\u001b[39m)\n\u001b[32m      7\u001b[39m \u001b[38;5;66;03m#Display the details of the top-scoring students\u001b[39;00m\n\u001b[32m      8\u001b[39m \u001b[38;5;28mprint\u001b[39m(top_scorers)\n",
      "\u001b[36mFile \u001b[39m\u001b[32m~/Desktop/jupyter/venv/lib/python3.13/site-packages/pandas/core/frame.py:4119\u001b[39m, in \u001b[36mDataFrame.__getitem__\u001b[39m\u001b[34m(self, key)\u001b[39m\n\u001b[32m   4117\u001b[39m     \u001b[38;5;28;01mif\u001b[39;00m is_iterator(key):\n\u001b[32m   4118\u001b[39m         key = \u001b[38;5;28mlist\u001b[39m(key)\n\u001b[32m-> \u001b[39m\u001b[32m4119\u001b[39m     indexer = \u001b[38;5;28;43mself\u001b[39;49m\u001b[43m.\u001b[49m\u001b[43mcolumns\u001b[49m\u001b[43m.\u001b[49m\u001b[43m_get_indexer_strict\u001b[49m\u001b[43m(\u001b[49m\u001b[43mkey\u001b[49m\u001b[43m,\u001b[49m\u001b[43m \u001b[49m\u001b[33;43m\"\u001b[39;49m\u001b[33;43mcolumns\u001b[39;49m\u001b[33;43m\"\u001b[39;49m\u001b[43m)\u001b[49m[\u001b[32m1\u001b[39m]\n\u001b[32m   4121\u001b[39m \u001b[38;5;66;03m# take() does not accept boolean indexers\u001b[39;00m\n\u001b[32m   4122\u001b[39m \u001b[38;5;28;01mif\u001b[39;00m \u001b[38;5;28mgetattr\u001b[39m(indexer, \u001b[33m\"\u001b[39m\u001b[33mdtype\u001b[39m\u001b[33m\"\u001b[39m, \u001b[38;5;28;01mNone\u001b[39;00m) == \u001b[38;5;28mbool\u001b[39m:\n",
      "\u001b[36mFile \u001b[39m\u001b[32m~/Desktop/jupyter/venv/lib/python3.13/site-packages/pandas/core/indexes/base.py:6212\u001b[39m, in \u001b[36mIndex._get_indexer_strict\u001b[39m\u001b[34m(self, key, axis_name)\u001b[39m\n\u001b[32m   6209\u001b[39m \u001b[38;5;28;01melse\u001b[39;00m:\n\u001b[32m   6210\u001b[39m     keyarr, indexer, new_indexer = \u001b[38;5;28mself\u001b[39m._reindex_non_unique(keyarr)\n\u001b[32m-> \u001b[39m\u001b[32m6212\u001b[39m \u001b[38;5;28;43mself\u001b[39;49m\u001b[43m.\u001b[49m\u001b[43m_raise_if_missing\u001b[49m\u001b[43m(\u001b[49m\u001b[43mkeyarr\u001b[49m\u001b[43m,\u001b[49m\u001b[43m \u001b[49m\u001b[43mindexer\u001b[49m\u001b[43m,\u001b[49m\u001b[43m \u001b[49m\u001b[43maxis_name\u001b[49m\u001b[43m)\u001b[49m\n\u001b[32m   6214\u001b[39m keyarr = \u001b[38;5;28mself\u001b[39m.take(indexer)\n\u001b[32m   6215\u001b[39m \u001b[38;5;28;01mif\u001b[39;00m \u001b[38;5;28misinstance\u001b[39m(key, Index):\n\u001b[32m   6216\u001b[39m     \u001b[38;5;66;03m# GH 42790 - Preserve name from an Index\u001b[39;00m\n",
      "\u001b[36mFile \u001b[39m\u001b[32m~/Desktop/jupyter/venv/lib/python3.13/site-packages/pandas/core/indexes/base.py:6264\u001b[39m, in \u001b[36mIndex._raise_if_missing\u001b[39m\u001b[34m(self, key, indexer, axis_name)\u001b[39m\n\u001b[32m   6261\u001b[39m     \u001b[38;5;28;01mraise\u001b[39;00m \u001b[38;5;167;01mKeyError\u001b[39;00m(\u001b[33mf\u001b[39m\u001b[33m\"\u001b[39m\u001b[33mNone of [\u001b[39m\u001b[38;5;132;01m{\u001b[39;00mkey\u001b[38;5;132;01m}\u001b[39;00m\u001b[33m] are in the [\u001b[39m\u001b[38;5;132;01m{\u001b[39;00maxis_name\u001b[38;5;132;01m}\u001b[39;00m\u001b[33m]\u001b[39m\u001b[33m\"\u001b[39m)\n\u001b[32m   6263\u001b[39m not_found = \u001b[38;5;28mlist\u001b[39m(ensure_index(key)[missing_mask.nonzero()[\u001b[32m0\u001b[39m]].unique())\n\u001b[32m-> \u001b[39m\u001b[32m6264\u001b[39m \u001b[38;5;28;01mraise\u001b[39;00m \u001b[38;5;167;01mKeyError\u001b[39;00m(\u001b[33mf\u001b[39m\u001b[33m\"\u001b[39m\u001b[38;5;132;01m{\u001b[39;00mnot_found\u001b[38;5;132;01m}\u001b[39;00m\u001b[33m not in index\u001b[39m\u001b[33m\"\u001b[39m)\n",
      "\u001b[31mKeyError\u001b[39m: \"['Gender'] not in index\""
     ]
    }
   ],
   "source": [
    "#Sort the DataFrame by 'Marks' column in descending order\n",
    "wainaina.sort_values(by='Marks', ascending=False, inplace=True)\n",
    "\n",
    "#Select the top-scoring students (e.g., top 3)\n",
    "top_scorers = wainaina[['Name', 'Gender', 'Marks']].head(3)\n",
    "\n",
    "#Display the details of the top-scoring students\n",
    "print(top_scorers)"
   ]
  },
  {
   "cell_type": "code",
   "execution_count": 14,
   "id": "cea483e3-6ab7-4cbe-bfe6-535bdd8154a0",
   "metadata": {},
   "outputs": [
    {
     "name": "stdout",
     "output_type": "stream",
     "text": [
      "   IDNO        NAME   Campus\n",
      "0   101       Peter     Main\n",
      "1   102       Joyce    Ruiru\n",
      "2   103      George  Nairobi\n",
      "3   104      Phylis     Main\n",
      "4   105       Moses    Ruiru\n",
      "5   106  Priscillah  Nairobi\n",
      "6   107       Eliud     Main\n",
      "7   108   Veronicah    Ruiru\n",
      "8   109        John  Nairobi\n",
      "9   110      Juliet     Main\n"
     ]
    }
   ],
   "source": [
    "import pandas as pd\n",
    "STUDENTDETAILS = {\n",
    "'IDNO': [101, 102, 103, 104, 105, 106, 107, 108, 109, 110],\n",
    "'NAME': ['Peter', 'Joyce', 'George', 'Phylis', 'Moses','Priscillah', 'Eliud','Veronicah','John', 'Juliet'],\n",
    "'Campus': ['Main','Ruiru', 'Nairobi', 'Main', 'Ruiru', 'Nairobi','Main', 'Ruiru', 'Nairobi','Main']\n",
    "}\n",
    "wainaina1 = pd.DataFrame(STUDENTDETAILS)\n",
    "print(wainaina1)"
   ]
  },
  {
   "cell_type": "code",
   "execution_count": 15,
   "id": "733e7207-8bcf-41f1-8f46-26c0a43ba3f4",
   "metadata": {},
   "outputs": [
    {
     "name": "stdout",
     "output_type": "stream",
     "text": [
      "   IDNO PENDING\n",
      "0   101    6000\n",
      "1   102     375\n",
      "2   103     NIL\n",
      "3   104    7640\n",
      "4   105    3800\n",
      "5   106     NIL\n",
      "6   107    1250\n",
      "7   108     900\n",
      "8   109    5200\n",
      "9   110     NIL\n"
     ]
    }
   ],
   "source": [
    "import pandas as pd\n",
    "FEESDETAILS = {\n",
    "'IDNO': [101, 102, 103, 104, 105, 106, 107, 108, 109, 110],\n",
    "'PENDING': ['6000', '375', 'NIL', '7640', '3800','NIL', '1250','900','5200', 'NIL']\n",
    "}\n",
    "wainaina2 = pd.DataFrame(FEESDETAILS)\n",
    "print(wainaina2)"
   ]
  },
  {
   "cell_type": "code",
   "execution_count": 16,
   "id": "7c452ebc-1bf6-4ef1-ad4d-9f9a754dff2f",
   "metadata": {},
   "outputs": [
    {
     "name": "stdout",
     "output_type": "stream",
     "text": [
      "   IDNO        NAME   Campus PENDING\n",
      "0   101       Peter     Main    6000\n",
      "1   102       Joyce    Ruiru     375\n",
      "2   103      George  Nairobi     NIL\n",
      "3   104      Phylis     Main    7640\n",
      "4   105       Moses    Ruiru    3800\n",
      "5   106  Priscillah  Nairobi     NIL\n",
      "6   107       Eliud     Main    1250\n",
      "7   108   Veronicah    Ruiru     900\n",
      "8   109        John  Nairobi    5200\n",
      "9   110      Juliet     Main     NIL\n"
     ]
    }
   ],
   "source": [
    "import pandas as pd\n",
    "STUDENTDETAILS = {\n",
    "'IDNO': [101, 102, 103, 104, 105, 106, 107, 108, 109, 110],\n",
    "'NAME': ['Peter', 'Joyce', 'George', 'Phylis', 'Moses','Priscillah', 'Eliud','Veronicah','John', 'Juliet'],\n",
    "'Campus': ['Main', 'Ruiru', 'Nairobi', 'Main', 'Ruiru', 'Nairobi','Main', 'Ruiru', 'Nairobi','Main']\n",
    "}\n",
    "wainaina1 = pd.DataFrame(STUDENTDETAILS)\n",
    "\n",
    "FEESDETAILS = {\n",
    "'IDNO': [101, 102, 103, 104, 105, 106, 107, 108, 109, 110],\n",
    "'PENDING': ['6000', '375', 'NIL', '7640', '3800','NIL', '1250','900','5200', 'NIL']\n",
    "}\n",
    "wainaina2 = pd.DataFrame(FEESDETAILS)\n",
    "\n",
    "#merging Dataframe\n",
    "print(pd.merge(wainaina1,wainaina2,on='IDNO'))"
   ]
  },
  {
   "cell_type": "code",
   "execution_count": 17,
   "id": "7f78f8f2-b02b-483d-bca8-602400e50b0d",
   "metadata": {},
   "outputs": [
    {
     "name": "stdout",
     "output_type": "stream",
     "text": [
      "    Campus  PENDING\n",
      "0     Main    14890\n",
      "1  Nairobi     5200\n",
      "2    Ruiru     5075\n"
     ]
    }
   ],
   "source": [
    "import pandas as pd\n",
    "\n",
    "#Create a DataFrame for student details\n",
    "STUDENTDETAILS = {\n",
    "'IDNO': [101, 102, 103, 104, 105, 106, 107, 108, 109, 110],\n",
    "'NAME': ['Peter', 'Joyce', 'George', 'Phylis', 'Moses', 'Priscillah', 'Eliud', 'Veronicah', 'John', 'Juliet'],\n",
    "'Campus': ['Main', 'Ruiru', 'Nairobi', 'Main', 'Ruiru', 'Nairobi', 'Main', 'Ruiru', 'Nairobi', 'Main']\n",
    "}\n",
    "wainaina1 = pd.DataFrame(STUDENTDETAILS)\n",
    "\n",
    "#Create a DataFrame for student fees\n",
    "FEESDETAILS = {\n",
    "'IDNO': [101, 102, 103, 104, 105, 106, 107, 108, 109, 110],\n",
    "'PENDING': [6000, 375, 0, 7640, 3800, 0, 1250, 900, 5200, 0]\n",
    "}\n",
    "wainaina2 = pd.DataFrame(FEESDETAILS)\n",
    "\n",
    "#Merge the two DataFrames on 'IDNO' to combine them\n",
    "merged_df = pd.merge(wainaina1, wainaina2, on='IDNO')\n",
    "\n",
    "#Group the merged DataFrame by 'Campus' and calculate the total pending fees for each campus\n",
    "campus_fee_totals = merged_df.groupby('Campus')['PENDING'].sum().reset_index()\n",
    "\n",
    "#Display the total pending fees for each campus\n",
    "print(campus_fee_totals)"
   ]
  },
  {
   "cell_type": "code",
   "execution_count": 18,
   "id": "cc37bf6e-5502-4ba2-8908-dec020882a6d",
   "metadata": {},
   "outputs": [
    {
     "name": "stdout",
     "output_type": "stream",
     "text": [
      "      Brand  Year    Model  Sales\n",
      "0    Maruti  2009    Swift    120\n",
      "1    Toyota  2010  Corolla    150\n",
      "2  Mahindra  2011  Scorpio     95\n",
      "3      Ford  2010   Fiesta     50\n",
      "4    Maruti  2010     Alto    105\n",
      "5    Toyota  2009    Camry    130\n",
      "6    Toyota  2010   Innova     90\n",
      "7      Ford  2012     Figo     75\n",
      "8  Mahindra  2010   Bolero     85\n",
      "9    Maruti  2009   WagonR    115\n",
      "\n",
      " GROUPED DATA \n",
      "\n",
      "  Brand  Year Model  Sales\n",
      "7  Ford  2012  Figo     75\n"
     ]
    }
   ],
   "source": [
    "import pandas as pd\n",
    "cardata = {\n",
    "'Brand': ['Maruti', 'Toyota', 'Mahindra', 'Ford', 'Maruti', 'Toyota', 'Toyota', 'Ford', 'Mahindra', 'Maruti'],\n",
    "'Year': [2009, 2010, 2011, 2010, 2010, 2009, 2010, 2012, 2010, 2009],\n",
    "'Model': ['Swift', 'Corolla', 'Scorpio', 'Fiesta', 'Alto', 'Camry', 'Innova', 'Figo', 'Bolero', 'WagonR'],\n",
    "'Sales': [120, 150, 95, 50, 105, 130, 90, 75, 85, 115]\n",
    "}\n",
    "\n",
    "#Create a DataFrame from the sample data\n",
    "wainaina= pd.DataFrame(cardata)\n",
    "print(wainaina)\n",
    "print(\"\\n GROUPED DATA \\n\")\n",
    "grouped=wainaina.groupby('Year')\n",
    "\n",
    "#Display the filtered DataFrame for car sales in a given year\n",
    "print(grouped.get_group(2012))"
   ]
  },
  {
   "cell_type": "code",
   "execution_count": 19,
   "id": "928e1c3b-30fa-4524-a87e-14f6451df7b0",
   "metadata": {},
   "outputs": [
    {
     "ename": "IndentationError",
     "evalue": "expected an indented block after 'for' statement on line 17 (1199408564.py, line 18)",
     "output_type": "error",
     "traceback": [
      "  \u001b[36mCell\u001b[39m\u001b[36m \u001b[39m\u001b[32mIn[19]\u001b[39m\u001b[32m, line 18\u001b[39m\n\u001b[31m    \u001b[39m\u001b[31mprint(f\"\\n Data for Year {year}:\\n\")\u001b[39m\n    ^\n\u001b[31mIndentationError\u001b[39m\u001b[31m:\u001b[39m expected an indented block after 'for' statement on line 17\n"
     ]
    }
   ],
   "source": [
    "import pandas as pd\n",
    "cardata = {\n",
    "'Brand': ['Maruti', 'Toyota', 'Mahindra', 'Ford', 'Maruti', 'Toyota', 'Toyota', 'Ford', 'Mahindra', 'Maruti'],\n",
    "'Year': [2009, 2010, 2011, 2010, 2010, 2009, 2010, 2012, 2010, 2009],\n",
    "'Model': ['Swift', 'Corolla', 'Scorpio', 'Fiesta', 'Alto', 'Camry', 'Innova', 'Figo', 'Bolero', 'WagonR'],\n",
    "'Sales': [120, 150, 95, 50, 105, 130, 90, 75, 85, 115]\n",
    "}\n",
    "\n",
    "#Create a DataFrame from the sample data\n",
    "wainaina= pd.DataFrame(cardata)\n",
    "print(wainaina)\n",
    "print(\"\\n GROUPED DATA \\n\")\n",
    "grouped=wainaina.groupby('Year')\n",
    "mychoice = [2009,2011, 2012]\n",
    "\n",
    "#Display the filtered DataFrame for car sales in a given year\n",
    "for year in mychoice:\n",
    "print(f\"\\n Data for Year {year}:\\n\")\n",
    "print(grouped.get_group(year))"
   ]
  },
  {
   "cell_type": "code",
   "execution_count": 20,
   "id": "86a52771-2324-4e4d-b160-6a7dfa84b885",
   "metadata": {},
   "outputs": [
    {
     "ename": "SyntaxError",
     "evalue": "invalid syntax (1330779183.py, line 9)",
     "output_type": "error",
     "traceback": [
      "  \u001b[36mCell\u001b[39m\u001b[36m \u001b[39m\u001b[32mIn[20]\u001b[39m\u001b[32m, line 9\u001b[39m\n\u001b[31m    \u001b[39m\u001b[31mCreate a DataFrame from the sample data\u001b[39m\n           ^\n\u001b[31mSyntaxError\u001b[39m\u001b[31m:\u001b[39m invalid syntax\n"
     ]
    }
   ],
   "source": [
    "import pandas as pd\n",
    "cardata = {\n",
    "'Brand': ['Maruti', 'Toyota', 'Mahindra', 'Ford', 'Maruti', 'Toyota', 'Toyota', 'Ford', 'Mahindra', 'Maruti'],\n",
    "'Year': [2009, 2010, 2011, 2010, 2010, 2009, 2010, 2012, 2010, 2009],\n",
    "'Model': ['Swift', 'Corolla', 'Scorpio', 'Fiesta', 'Alto', 'Camry', 'Innova', 'Figo', 'Bolero', 'WagonR'],\n",
    "'Sales': [120, 150, 95, 50, 105, 130, 90, 75, 85, 115]\n",
    "}\n",
    "\n",
    "Create a DataFrame from the sample data\n",
    "wainaina= pd.DataFrame(cardata)\n",
    "\n",
    "Filter the data to keep only car sales in the year 2010\n",
    "sales2010 = wainaina[wainaina['Year'] == 2010]\n",
    "\n",
    "Display the filtered DataFrame for car sales in 2010\n",
    "print(sales2010)"
   ]
  },
  {
   "cell_type": "code",
   "execution_count": null,
   "id": "b7305ffe-1832-4961-92ab-b0caab1e3d5c",
   "metadata": {},
   "outputs": [],
   "source": [
    "import pandas as pd\n",
    "cardata = {\n",
    "'Brand': ['Maruti', 'Toyota', 'Mahindra', 'Ford', 'Maruti', 'Toyota', 'Toyota', 'Ford', 'Mahindra', 'Maruti'],\n",
    "'Year': [2009, 2010, 2011, 2010, 2010, 2009, 2010, 2012, 2010, 2009],\n",
    "'Model': ['Swift', 'Corolla', 'Scorpio', 'Fiesta', 'Alto', 'Camry', 'Innova', 'Figo', 'Bolero', 'WagonR'],\n",
    "'Sales': [120, 150, 95, 50, 105, 130, 90, 75, 85, 115]\n",
    "}\n",
    "\n",
    "Create a DataFrame from the sample data\n",
    "wainaina= pd.DataFrame(cardata)\n",
    "\n",
    "Filter the data to keep only car sales in the year 2010\n",
    "sales2010 = wainaina[(wainaina['Year'] == 2010) & (wainaina['Sales'] > 100)]\n",
    "\n",
    "Display the filtered DataFrame for car sales in 2010\n",
    "print(sales2010)\n"
   ]
  },
  {
   "cell_type": "code",
   "execution_count": null,
   "id": "758b95b0-7524-4b7d-b67a-2e4f46551f83",
   "metadata": {},
   "outputs": [],
   "source": [
    "import pandas as pd\n",
    "\n",
    "Sample data for car sales\n",
    "cardata = {\n",
    "'Brand': ['Maruti', 'Toyota', 'Mahindra', 'Ford', 'Maruti', 'Toyota', 'Toyota', 'Ford', 'Mahindra', 'Maruti'],\n",
    "'Year': [2009, 2010, 2011, 2010, 2010, 2009, 2010, 2012, 2010, 2009],\n",
    "'Model': ['Swift', 'Corolla', 'Scorpio', 'Fiesta', 'Alto', 'Camry', 'Innova', 'Figo', 'Bolero', 'WagonR'],\n",
    "'Sales': [120, 150, 95, 50, 105, 130, 90, 75, 85, 115]\n",
    "}\n",
    "\n",
    "Create a DataFrame from the sample data\n",
    "wainaina = pd.DataFrame(cardata)\n",
    "\n",
    "Filter data for the year 2010 or 2011 using logical OR operator |\n",
    "filtered_data = wainaina[(wainaina['Year'] == 2010) | (wainaina['Year'] == 2011) | (wainaina['Year'] == 2009)]\n",
    "\n",
    "Display the filtered DataFrame\n",
    "print(filtered_data)"
   ]
  }
 ],
 "metadata": {
  "kernelspec": {
   "display_name": "Python 3 (ipykernel)",
   "language": "python",
   "name": "python3"
  },
  "language_info": {
   "codemirror_mode": {
    "name": "ipython",
    "version": 3
   },
   "file_extension": ".py",
   "mimetype": "text/x-python",
   "name": "python",
   "nbconvert_exporter": "python",
   "pygments_lexer": "ipython3",
   "version": "3.13.3"
  }
 },
 "nbformat": 4,
 "nbformat_minor": 5
}
